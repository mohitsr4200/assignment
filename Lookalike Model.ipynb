{
  "nbformat": 4,
  "nbformat_minor": 0,
  "metadata": {
    "colab": {
      "provenance": []
    },
    "kernelspec": {
      "name": "python3",
      "display_name": "Python 3"
    },
    "language_info": {
      "name": "python"
    }
  },
  "cells": [
    {
      "cell_type": "markdown",
      "source": [
        "# Import libraries and load the datasets"
      ],
      "metadata": {
        "id": "0jfzFVRrisme"
      }
    },
    {
      "cell_type": "code",
      "execution_count": 1,
      "metadata": {
        "id": "uh6suTmWwzOr"
      },
      "outputs": [],
      "source": [
        "import pandas as pd\n",
        "import numpy as np\n",
        "from sklearn.metrics.pairwise import cosine_similarity\n",
        "from sklearn.preprocessing import StandardScaler\n",
        "\n",
        "customers_df = pd.read_csv('Customers.csv')\n",
        "products_df = pd.read_csv('Products.csv')\n",
        "transactions_df = pd.read_csv('Transactions.csv')"
      ]
    },
    {
      "cell_type": "markdown",
      "source": [
        "# 1. Data Preprocessing and Merging the Datasets\n",
        "Merge the transaction data with customer and product data"
      ],
      "metadata": {
        "id": "Z7erqkssjieF"
      }
    },
    {
      "cell_type": "code",
      "source": [
        "merged_df = transactions_df.merge(customers_df, on='CustomerID', how='left')  # Merge with Customers\n",
        "merged_df = merged_df.merge(products_df, on='ProductID', how='left')  # Merge with Products"
      ],
      "metadata": {
        "id": "93c3ntnEjg6T"
      },
      "execution_count": 2,
      "outputs": []
    },
    {
      "cell_type": "markdown",
      "source": [
        "\n",
        "# 2. Feature Engineering for Transaction History\n",
        "Aggregating purchase information per customer"
      ],
      "metadata": {
        "id": "WMMlK8P0jdNU"
      }
    },
    {
      "cell_type": "code",
      "source": [
        "cp_history = merged_df.groupby('CustomerID').agg(\n",
        "    total_spent=pd.NamedAgg(column='TotalValue', aggfunc='sum'),\n",
        "    avg_transaction_value=pd.NamedAgg(column='TotalValue', aggfunc='mean'),\n",
        "    total_transactions=pd.NamedAgg(column='TransactionID', aggfunc='nunique')\n",
        ").reset_index()\n",
        "\n",
        "# Feature for the most purchased product\n",
        "cate_spend = merged_df.groupby(['CustomerID', 'Category'])['TotalValue'].sum().unstack(fill_value=0)\n",
        "cate_spend = cate_spend.reset_index()\n",
        "\n",
        "# Merge transaction aggregated data with the category data\n",
        "cprofile = pd.merge(cp_history, cate_spend, on='CustomerID')\n"
      ],
      "metadata": {
        "id": "aObOCvbNjbrs"
      },
      "execution_count": 5,
      "outputs": []
    },
    {
      "cell_type": "markdown",
      "source": [
        "# 3. Normalizing Features"
      ],
      "metadata": {
        "id": "F1Qs7f5_jVo2"
      }
    },
    {
      "cell_type": "code",
      "source": [
        "sc = StandardScaler()\n",
        "sc_features = sc.fit_transform(cprofile.drop('CustomerID', axis=1))"
      ],
      "metadata": {
        "id": "b9rG29O9jTZS"
      },
      "execution_count": 6,
      "outputs": []
    },
    {
      "cell_type": "markdown",
      "source": [
        "# 4. Calculate Cosine Similarity\n",
        "We will compute similarity using cosine similarity between customers' feature vectors"
      ],
      "metadata": {
        "id": "2akePnZxjO6h"
      }
    },
    {
      "cell_type": "code",
      "source": [
        "cose_simi = cosine_similarity(sc_features)"
      ],
      "metadata": {
        "id": "06vBJ_rPjL1E"
      },
      "execution_count": 7,
      "outputs": []
    },
    {
      "cell_type": "markdown",
      "source": [
        "\n",
        "# 5. Function to Get Lookalike Recommendations"
      ],
      "metadata": {
        "id": "-onLf79SjA7-"
      }
    },
    {
      "cell_type": "code",
      "source": [
        "def get_lookalikes(customer_id, top_n=3):\n",
        "    customer_index = cprofile[cprofile['CustomerID'] == customer_id].index[0]\n",
        "    similarity_scores = cose_simi[customer_index]\n",
        "\n",
        "    # Get sorted indices based on similarity (excluding the customer itself)\n",
        "    similar_customers = similarity_scores.argsort()[::-1]\n",
        "    similar_customers = similar_customers[similar_customers != customer_index][:top_n]\n",
        "\n",
        "    # Get customer IDs and similarity scores\n",
        "    similar_customers_ids = cprofile.iloc[similar_customers]['CustomerID'].values\n",
        "    similarity_scores = similarity_scores[similar_customers]\n",
        "\n",
        "    return list(zip(similar_customers_ids, similarity_scores))"
      ],
      "metadata": {
        "id": "M0dRVqDqi_r6"
      },
      "execution_count": 12,
      "outputs": []
    },
    {
      "cell_type": "markdown",
      "source": [
        "# 6. Generate Lookalike Recommendations for Customers C0001 to C0020"
      ],
      "metadata": {
        "id": "ItFb2OXGi5Mw"
      }
    },
    {
      "cell_type": "code",
      "source": [
        "lookalike_map = {}\n",
        "for customer_id in ['C0001', 'C0002', 'C0003', 'C0004', 'C0005', 'C0006', 'C0007', 'C0008', 'C0009', 'C0010',\n",
        "                    'C0011', 'C0012', 'C0013', 'C0014', 'C0015', 'C0016', 'C0017', 'C0018', 'C0019', 'C0020']:\n",
        "    lookalike_map[customer_id] = get_lookalikes(customer_id)"
      ],
      "metadata": {
        "id": "PlIzx1kdi5pC"
      },
      "execution_count": 13,
      "outputs": []
    },
    {
      "cell_type": "markdown",
      "source": [
        "# 7. Create the Lookalike.csv file"
      ],
      "metadata": {
        "id": "L7P6pWQxi1bZ"
      }
    },
    {
      "cell_type": "code",
      "source": [
        "lookalike_df = pd.DataFrame([\n",
        "    {'CustomerID': cust_id, 'Lookalikes': str(lookalikes)}\n",
        "    for cust_id, lookalikes in lookalike_map.items()\n",
        "])\n",
        "\n",
        "lookalike_df.to_csv('Lookalike.csv', index=False)\n",
        "print(\"Lookalike recommendations for customers C0001 - C0020 have been saved to 'Lookalike.csv'.\")"
      ],
      "metadata": {
        "colab": {
          "base_uri": "https://localhost:8080/"
        },
        "id": "R77ZMTBTiz7Z",
        "outputId": "952c2873-4b85-4226-abd8-6ac1f277911a"
      },
      "execution_count": 14,
      "outputs": [
        {
          "output_type": "stream",
          "name": "stdout",
          "text": [
            "Lookalike recommendations for customers C0001 - C0020 have been saved to 'Lookalike.csv'.\n"
          ]
        }
      ]
    },
    {
      "cell_type": "code",
      "source": [
        "df = pd.read_csv('Lookalike.csv');\n",
        "print(df.head(5))"
      ],
      "metadata": {
        "colab": {
          "base_uri": "https://localhost:8080/"
        },
        "id": "YhYD64SXxv9G",
        "outputId": "52e1e97c-1023-42ca-e6ea-f34290aac1fd"
      },
      "execution_count": 17,
      "outputs": [
        {
          "output_type": "stream",
          "name": "stdout",
          "text": [
            "  CustomerID                                         Lookalikes\n",
            "0      C0001  [('C0069', 0.9682358410432497), ('C0091', 0.92...\n",
            "1      C0002  [('C0036', 0.8785858823455555), ('C0055', 0.86...\n",
            "2      C0003  [('C0166', 0.9269596398494403), ('C0005', 0.90...\n",
            "3      C0004  [('C0075', 0.9804638599143275), ('C0065', 0.92...\n",
            "4      C0005  [('C0197', 0.9790240655576301), ('C0166', 0.92...\n"
          ]
        }
      ]
    }
  ]
}